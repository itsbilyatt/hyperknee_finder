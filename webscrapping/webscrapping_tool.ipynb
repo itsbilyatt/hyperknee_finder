{
  "nbformat": 4,
  "nbformat_minor": 0,
  "metadata": {
    "colab": {
      "provenance": [],
      "authorship_tag": "ABX9TyOHg/PvtveM1iQDfdO/gKwO",
      "include_colab_link": true
    },
    "kernelspec": {
      "name": "python3",
      "display_name": "Python 3"
    },
    "language_info": {
      "name": "python"
    }
  },
  "cells": [
    {
      "cell_type": "markdown",
      "metadata": {
        "id": "view-in-github",
        "colab_type": "text"
      },
      "source": [
        "<a href=\"https://colab.research.google.com/github/itsbilyatt/hyperknee_finder/blob/main/webscrapping/webscrapping_tool.ipynb\" target=\"_parent\"><img src=\"https://colab.research.google.com/assets/colab-badge.svg\" alt=\"Open In Colab\"/></a>"
      ]
    },
    {
      "cell_type": "code",
      "execution_count": null,
      "metadata": {
        "id": "pymm8CCbEao0"
      },
      "outputs": [],
      "source": [
        "# import required library\n",
        "import requests\n",
        "from bs4 import BeautifulSoup\n",
        "class Webscraper:\n",
        "    \"\"\"\n",
        "    it is tool which will help you to save your time while working\n",
        "    on data scraping related work\n",
        "    \"\"\"\n",
        "\n",
        "    def __init__(self, url):\n",
        "        self.url = url\n",
        "\n",
        "    def request_data(self):\n",
        "\n",
        "        try:\n",
        "            response = requests.get(self.url)\n",
        "\n",
        "            if response.status_code==200:\n",
        "                print(\"request is successful and Response code is:\",response.status_code,)\n",
        "                print()\n",
        "                return response\n",
        "\n",
        "            else:\n",
        "                print(\"request Not successful and Response code is:\",response.status_code,)\n",
        "                print()\n",
        "\n",
        "            # Process the response\n",
        "        except requests.Timeout as e:\n",
        "            print(f\"A timeout occurred: {e}\")\n",
        "            # Handle timeout error\n",
        "        except requests.TooManyRedirects as e:\n",
        "            print(f\"Too many redirects: {e}\")\n",
        "            # Handle excessive redirects error\n",
        "        except requests.ConnectionError as e:\n",
        "            print(f\"A connection error occurred: {e}\")\n",
        "            # Handle other connection errors\n",
        "        except requests.RequestException as e:\n",
        "            print(f\"An error occurred: {e}\")\n",
        "            # Handle other request exceptions\n",
        "\n",
        "\n",
        "    def soup_content(self):\n",
        "        respons = Webscraper.request_data(self)\n",
        "        soup = BeautifulSoup(respons.content, 'html.parser')\n",
        "        return soup\n",
        "\n",
        "    def soup_text(self):\n",
        "        respons = Webscraper.request_data(self)\n",
        "        soup1 = BeautifulSoup(respons.text, 'html.parser')\n",
        "        return soup1.get_text()\n",
        "\n",
        "    def soup_text_string(self):\n",
        "        return str(Webscraper.soup_text(self))\n",
        "\n",
        "    def soup_content_string(self):\n",
        "        return str(Webscraper.soup_content(self))\n"
      ]
    }
  ]
}